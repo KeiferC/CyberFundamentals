{
 "cells": [
  {
   "cell_type": "markdown",
   "metadata": {},
   "source": [
    "# Brief"
   ]
  },
  {
   "cell_type": "markdown",
   "metadata": {},
   "source": [
    "## Executive Summary"
   ]
  },
  {
   "cell_type": "markdown",
   "metadata": {},
   "source": [
    "TODO"
   ]
  },
  {
   "cell_type": "markdown",
   "metadata": {},
   "source": [
    "## Background"
   ]
  },
  {
   "cell_type": "markdown",
   "metadata": {},
   "source": [
    "TODO"
   ]
  },
  {
   "cell_type": "markdown",
   "metadata": {},
   "source": [
    "## Recommendation"
   ]
  },
  {
   "cell_type": "markdown",
   "metadata": {},
   "source": [
    "TODO"
   ]
  },
  {
   "cell_type": "markdown",
   "metadata": {},
   "source": [
    "## Limitations & Assumptions"
   ]
  },
  {
   "cell_type": "markdown",
   "metadata": {},
   "source": [
    "TODO"
   ]
  },
  {
   "cell_type": "markdown",
   "metadata": {},
   "source": [
    "# Theory"
   ]
  },
  {
   "cell_type": "markdown",
   "metadata": {},
   "source": [
    "The formulation below describes a scalable means of finding optimal solutions to problems solved via the adoption of a configuration of technologies. For example, problems such as, \"What collection of tools and/or processes can I use to best improve peer-to-peer communications in my organization given certain constraints?\" can be solved with a selection of technologies that maximize utility with given datasets of technologies.\n",
    "\n",
    "The algorithm works as follows:\n",
    "\n",
    "1. Given two datasets of technologies and their corresponding utility metrics (measurements of the degree to which a technology solves a defined problem), combine both datasets into one technologies dataset in which existing tech solutions are weighted higher than non-adopted tech solutions.\n",
    "2. Given a list of constraints, return a set of configurations of technologies that satsify the constraints (AKA a feasible set).\n",
    "3. Sort the feasible set from greatest utility to least utility and return the top $n$ configurations.\n",
    "4. Return the configuration within the top $n$ that requires the least number of additional tools to adopt.\n",
    "\n",
    "The algorithm can find optimal solutions to problems from levels as high as, \"What technologies best facilitate collaboration in my organization?\" to levels as low as, \"Which email client should I use?\"\n",
    "\n",
    "The formulation is a modification of the combinatorial optimization *0/1 Knapsack Problem* and is solved using linear programming."
   ]
  },
  {
   "cell_type": "markdown",
   "metadata": {},
   "source": [
    "## Problem Formulation"
   ]
  },
  {
   "cell_type": "markdown",
   "metadata": {},
   "source": [
    "\\begin{align}\n",
    "\\text{optimal solution} = \\min\\ \\text{sort}(A, n)\n",
    "\\end{align}"
   ]
  },
  {
   "cell_type": "markdown",
   "metadata": {},
   "source": [
    "Where:"
   ]
  },
  {
   "cell_type": "markdown",
   "metadata": {},
   "source": [
    "\\begin{align}\n",
    "\\text{sort} &:= f: A, n \\rightarrow y, \\text{where } |y| \\le n, n \\in \\mathbb{N}, n \\le |I| \\\\\n",
    "y &:= \\text{list result of a first-element-keyed top-down sort of list-casted set } A\n",
    "\\end{align}"
   ]
  },
  {
   "cell_type": "markdown",
   "metadata": {},
   "source": [
    "Given definitions:"
   ]
  },
  {
   "cell_type": "markdown",
   "metadata": {},
   "source": [
    "\\begin{align}\n",
    "A &:= \\left(\\sum_{i \\in I}u_ix_i, |X_i|\\right) \\text{ s.t. } \\sum_{i \\in I}w_ix_i \\le W \\wedge \\sum_{i \\in I}u_ix_i \\ge 0 \\wedge \\hat{c} = \\text{True, } \\forall \\hat{c} \\in C \\\\\n",
    "I &:= I_\\text{new} \\cap I_\\text{existing} \\\\\n",
    "I_\\text{new} &:= \\text{discrete set of potential tech solutions (e.g. tools, processes)} \\\\\n",
    "I_\\text{existing} &:= \\text{discrete set of existing tech solutions (e.g. tools, processes)} \\\\\n",
    "x_i &:=\n",
    "    \\begin{cases}\n",
    "    x_\\text{new},& \\text{if } i \\in I_\\text{new}\\\\\n",
    "    x_\\text{existing},& \\text{if } i \\in I_\\text{existing}\n",
    "    \\end{cases} \\\\\n",
    "x_\\text{new} &:=\n",
    "    \\begin{cases}\n",
    "    1,& \\text{if $i$ is adopted, where } i \\in I_\\text{new} \\\\\n",
    "    0,& \\text{otherwise}\n",
    "    \\end{cases} \\\\\n",
    "x_\\text{existing} &:=\n",
    "    \\begin{cases}\n",
    "    1.5,& \\text{if $i$ is adopted, where } i \\in I_\\text{existing}\\\\\n",
    "    0,& \\text{otherwise}\n",
    "    \\end{cases} \\\\\n",
    "X_i &:= \\{x_i | x_i = 1\\}, i \\in I \\\\\n",
    "u_i &:= \\text{utility of } i \\in I,\\ u_i \\in \\mathbb{R}^+ \\\\\n",
    "w_u &:= \\text{cost of } i \\in I, w_i \\in \\mathbb{R}^+ \\\\\n",
    "W &:= \\text{budget (cost upper-bound)} \\\\\n",
    "C &:= \\text{discrete set of constraints}\n",
    "\\end{align}"
   ]
  },
  {
   "cell_type": "markdown",
   "metadata": {},
   "source": [
    "# Implementation"
   ]
  },
  {
   "cell_type": "markdown",
   "metadata": {},
   "source": [
    "## Usage Process"
   ]
  },
  {
   "cell_type": "markdown",
   "metadata": {},
   "source": [
    "The process of optimizing a tech-adoption-enabled solution works as follows:\n",
    "\n",
    "1. Define a problem that can be solved through the adoption of a configuration of tools and/or processes\n",
    "2. Define a list of constraints on potential solutions (e.g. a budget constraint)\n",
    "3. Define metrics for evaluating potential solutions to the problem \n",
    "4. Compile a dataset of adopted technologies and their corresponding metric values \n",
    "5. Compile a dataset of researched and non-adopted technologies and their corresponding metric values\n",
    "6. Pass both datasets into the formula\n",
    "7. Inform decisions through analyzing the results\n",
    "\n",
    "Main Benefits:\n",
    "\n",
    "- Solutions address root problem, instead of patching holes\n",
    "- Solutions are evidence and data-driven\n",
    "- Process considers existing technologies as potential solutions\n",
    "- Process and algorithm provide transparency and accountability in decision-making\n",
    "- Process handles more data points and calculations than manually-feasible\n",
    "- Process provides a methodological and quality standard in research and decision-making\n",
    "\n",
    "Main Limitations:\n",
    "\n",
    "- Formulation addresses problems that can be solved through the adoption of technologies (e.g. cannot solve cultural problems)\n",
    "- Marginal utility increases with more data and analysis -- time and labor constraint\n",
    "- Formulation requires relevant defined utility metrics \n",
    "- Evaluation of metrics are often subjective -- their validity depends on data sourced from a representative sample\n",
    "- Quantitative evaluations are subject to data biases and are limited to quantifiable measures\n",
    "- There exists a risk of relying on the formulation; it serves to inform, not decide"
   ]
  },
  {
   "cell_type": "markdown",
   "metadata": {},
   "source": [
    "### Data Collection Needs"
   ]
  },
  {
   "cell_type": "markdown",
   "metadata": {},
   "source": [
    "- $I_{existing}$: the current set of existing tools that contribute to solving the problem\n",
    "- $I_{new}$: the current set of existing tools being researched for potential adoption\n",
    "- $W$: Budget limitations\n",
    "- $C$: Any other additional constraints\n",
    "- $u_i$: utility measure of every technical solution\n",
    "- $w_i$: cost measure of every technical solution"
   ]
  },
  {
   "cell_type": "markdown",
   "metadata": {},
   "source": [
    "## Example"
   ]
  },
  {
   "cell_type": "markdown",
   "metadata": {},
   "source": [
    "__Problem Statement__: What is the best selection of tools for improving P2P communications in my organization?"
   ]
  },
  {
   "cell_type": "markdown",
   "metadata": {},
   "source": [
    "__Defined Constraints__\n",
    "\n",
    "- Budget: $8,000 / yr\n",
    "- No duplicate tools\n",
    "- Minimum security level: MED"
   ]
  },
  {
   "cell_type": "markdown",
   "metadata": {},
   "source": [
    "__Utility Metrics__\n",
    "\n",
    "- Speed of communications\n",
    "- Facilitates real-time conversations\n",
    "- Intuitive interface\n",
    "- Accessible\n",
    "- Secure\n",
    "- Platform/device/location agnostic"
   ]
  },
  {
   "cell_type": "markdown",
   "metadata": {},
   "source": [
    "__Dataset of Adopted Technologies__"
   ]
  },
  {
   "cell_type": "markdown",
   "metadata": {},
   "source": [
    "|            | Communications Speed | Synchronocity | Intuitive Use | Accessible | Secure | Agnostic | Total Cost / yr |\n",
    "|------------|----------------------|---------------|---------------|------------|--------|----------|-----------------|\n",
    "| mail       | LOW                  | LOW           | LOW           | MED        | LOW    | LOW      | \\$2000           |\n",
    "| desk phone | MED                  | HIGH          | MED           | MED        | MED    | LOW      | \\$4000           |\n",
    "| email 1    | HIGH                 | MED           | MED           | HIGH       | MED    | HIGH     | \\$2000           |\n",
    "| email 2    | HIGH                 | MED           | HIGH          | HIGH       | MED    | HIGH     | \\$3000           |"
   ]
  },
  {
   "cell_type": "markdown",
   "metadata": {},
   "source": [
    "__Dataset of Researched Technologies__"
   ]
  },
  {
   "cell_type": "markdown",
   "metadata": {},
   "source": [
    "|              | Communications Speed | Synchronocity | Intuitive Use | Accessible | Secure | Agnostic | Total Cost / yr |\n",
    "|--------------|----------------------|---------------|---------------|------------|--------|----------|-----------------|\n",
    "| IM Service 1 | HIGH                 | HIGH          | HIGH          | HIGH       | MED    | MED      | \\$2000           |\n",
    "| IM Service 2 | HIGH                 | HIGH          | HIGH          | HIGH       | HIGH   | HIGH     | \\$2500           |\n",
    "| Video Chat 1 | HIGH                 | HIGH          | HIGH          | HIGH       | MED    | MED      | \\$3000           |\n",
    "| Video Chat 2 | HIGH                 | HIGH          | MED           | HIGH       | HIGH   | MED      | \\$3000           |\n",
    "| Cell Phone   | HIGH                 | HIGH          | HIGH          | HIGH       | MED    | HIGH     | \\$4000           |"
   ]
  },
  {
   "cell_type": "code",
   "execution_count": null,
   "metadata": {},
   "outputs": [],
   "source": []
  }
 ],
 "metadata": {
  "kernelspec": {
   "display_name": "Python 3",
   "language": "python",
   "name": "python3"
  },
  "language_info": {
   "codemirror_mode": {
    "name": "ipython",
    "version": 3
   },
   "file_extension": ".py",
   "mimetype": "text/x-python",
   "name": "python",
   "nbconvert_exporter": "python",
   "pygments_lexer": "ipython3",
   "version": "3.8.5"
  }
 },
 "nbformat": 4,
 "nbformat_minor": 4
}
