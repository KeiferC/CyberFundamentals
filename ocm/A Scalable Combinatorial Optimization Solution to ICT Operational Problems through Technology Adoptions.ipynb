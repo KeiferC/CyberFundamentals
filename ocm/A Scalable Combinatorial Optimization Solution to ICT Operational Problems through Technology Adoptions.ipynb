{
 "cells": [
  {
   "cell_type": "markdown",
   "metadata": {},
   "source": [
    "# Brief"
   ]
  },
  {
   "cell_type": "markdown",
   "metadata": {},
   "source": [
    "## Executive Summary"
   ]
  },
  {
   "cell_type": "markdown",
   "metadata": {},
   "source": [
    "TODO"
   ]
  },
  {
   "cell_type": "markdown",
   "metadata": {},
   "source": [
    "## Background"
   ]
  },
  {
   "cell_type": "markdown",
   "metadata": {},
   "source": [
    "TODO"
   ]
  },
  {
   "cell_type": "markdown",
   "metadata": {},
   "source": [
    "## Recommendation"
   ]
  },
  {
   "cell_type": "markdown",
   "metadata": {},
   "source": [
    "TODO"
   ]
  },
  {
   "cell_type": "markdown",
   "metadata": {},
   "source": [
    "## Limitations & Assumptions"
   ]
  },
  {
   "cell_type": "markdown",
   "metadata": {},
   "source": [
    "TODO"
   ]
  },
  {
   "cell_type": "markdown",
   "metadata": {},
   "source": [
    "# Theory"
   ]
  },
  {
   "cell_type": "markdown",
   "metadata": {},
   "source": [
    "The formulation below describes a scalable means of finding optimal solutions to problems solved via the adoption of a configuration of technologies. For example, problems such as, \"what tools and/or processes can I use to improve peer-to-peer communications in my organization given certain constraints?\" can be solved with a selection of technologies that maximize utility with a given dataset of tools and/or processes.\n",
    "\n",
    "The algorithm works as follows:\n",
    "\n",
    "1. Given two datasets of technologies and their corresponding utility metrics that measure the degree to which a technology solves a defined problem, combine both datasets into one technologies dataset in which existing tech solutions are weighted higher than non-adopted tech solutions.\n",
    "2. Given a list of constraints, return a set of configurations of technologies that satsify the constraints (AKA a feasible set).\n",
    "3. Sort the feasible set from greatest utility to least utility and return the top $n$ configurations.\n",
    "4. Return the configuration within the top $n$ that requires the least number of additional tools to adopt."
   ]
  },
  {
   "cell_type": "markdown",
   "metadata": {},
   "source": [
    "## Math Formulation"
   ]
  },
  {
   "cell_type": "markdown",
   "metadata": {},
   "source": [
    "$$\\min\\ \\text{sort}(A, n)$$\n",
    "\n",
    "Where:\n",
    "$$\n",
    "\\begin{align}\n",
    "\\text{sort} &:= f: A, n \\rightarrow y, \\text{where } |y| \\le n, n \\in \\mathbb{N} \\\\\n",
    "y &:= \\text{list result of a first-element-keyed top-down sort of list-casted set $A$} \\\\\n",
    "\\end{align}\n",
    "$$\n",
    "\n",
    "Given definitions:\n",
    "$$\n",
    "\\begin{align}\n",
    "A &:= \\left(\\sum_{i \\in I}u_ix_i, |X_i|\\right) \\text{ s.t. } \\sum_{i \\in I}w_ix_i \\le W \\wedge \\sum_{i \\in I}u_ix_i \\ge 0 \\wedge \\hat{c} = \\text{True, } \\forall \\hat{c} \\in C \\\\\n",
    "I &:= I_\\text{new} \\cap I_\\text{existing} \\\\\n",
    "I_\\text{new} &:= \\text{discrete set of potential tech solutions (e.g. tools, processes)} \\\\\n",
    "I_\\text{existing} &:= \\text{discrete set of existing tech solutions (e.g. tools, processes)} \\\\\n",
    "x_i &:=\n",
    "    \\begin{cases}\n",
    "    x_\\text{new},& \\text{if } i \\in I_\\text{new}\\\\\n",
    "    x_\\text{existing},& \\text{if } i \\in I_\\text{existing}\n",
    "    \\end{cases} \\\\\n",
    "x_\\text{new} &:=\n",
    "    \\begin{cases}\n",
    "    1,& \\text{if $i$ is adopted, where } i \\in I_\\text{new} \\\\\n",
    "    0,& \\text{otherwise}\n",
    "    \\end{cases} \\\\\n",
    "x_\\text{existing} &:=\n",
    "    \\begin{cases}\n",
    "    2,& \\text{if $i$ is adopted, where } i \\in I_\\text{existing}\\\\\n",
    "    0,& \\text{otherwise}\n",
    "    \\end{cases} \\\\\n",
    "X_i &:= \\{x_i | x_i = 1\\}, i \\in I \\\\\n",
    "u_i &:= \\text{utility of } i \\in I,\\ u_i \\in \\mathbb{R}^+ \\\\\n",
    "w_u &:= \\text{cost of } i \\in I, w_i \\in \\mathbb{R}^+ \\\\\n",
    "W &:= \\text{budget (cost upper-bound)} \\\\\n",
    "C &:= \\text{discrete set of constraints}\n",
    "\\end{align}\n",
    "$$"
   ]
  },
  {
   "cell_type": "markdown",
   "metadata": {},
   "source": [
    "# Implementation"
   ]
  },
  {
   "cell_type": "markdown",
   "metadata": {},
   "source": [
    "## Usage Process"
   ]
  },
  {
   "cell_type": "markdown",
   "metadata": {},
   "source": [
    "The process of optimizing a tech-adoption-enabled solution works as follows:\n",
    "\n",
    "1. Define a problem that can be solved through the adoption of a configuration of tools and/or processes\n",
    "2. Define a list of constraints on potential solutions (e.g. a budget constraint)\n",
    "3. Define metrics for evaluating potential solutions to the problem \n",
    "4. Compile a dataset of adopted technologies and their corresponding metric values \n",
    "5. Compile a dataset of researched and non-adopted technologies and their corresponding metric values\n",
    "6. Pass both datasets into the formula\n",
    "7. Inform decisions through analyzing the results"
   ]
  },
  {
   "cell_type": "markdown",
   "metadata": {},
   "source": [
    "### Data Collection Needs"
   ]
  },
  {
   "cell_type": "markdown",
   "metadata": {},
   "source": [
    "- $I_{existing}$: the current set of existing tools that contribute to solving the problem\n",
    "- $I_{new}$: the current set of existing tools being researched for potential adoption\n",
    "- $W$: Budget limitations\n",
    "- $C$: Any other additional constraints\n",
    "- $u_i$: utility measure of every technical solution\n",
    "- $w_i$: cost measure of every technical solution"
   ]
  },
  {
   "cell_type": "markdown",
   "metadata": {},
   "source": [
    "### Data Processing"
   ]
  },
  {
   "cell_type": "markdown",
   "metadata": {},
   "source": [
    "TODO"
   ]
  },
  {
   "cell_type": "code",
   "execution_count": null,
   "metadata": {},
   "outputs": [],
   "source": [
    "# TODO"
   ]
  }
 ],
 "metadata": {
  "kernelspec": {
   "display_name": "Python 3",
   "language": "python",
   "name": "python3"
  },
  "language_info": {
   "codemirror_mode": {
    "name": "ipython",
    "version": 3
   },
   "file_extension": ".py",
   "mimetype": "text/x-python",
   "name": "python",
   "nbconvert_exporter": "python",
   "pygments_lexer": "ipython3",
   "version": "3.8.5"
  }
 },
 "nbformat": 4,
 "nbformat_minor": 4
}
