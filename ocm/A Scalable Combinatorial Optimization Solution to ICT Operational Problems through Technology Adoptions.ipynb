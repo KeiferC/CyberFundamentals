{
 "cells": [
  {
   "cell_type": "markdown",
   "metadata": {},
   "source": [
    "# Brief"
   ]
  },
  {
   "cell_type": "markdown",
   "metadata": {},
   "source": [
    "## Executive Summary"
   ]
  },
  {
   "cell_type": "markdown",
   "metadata": {},
   "source": [
    "TODO"
   ]
  },
  {
   "cell_type": "markdown",
   "metadata": {},
   "source": [
    "## Background"
   ]
  },
  {
   "cell_type": "markdown",
   "metadata": {},
   "source": [
    "TODO"
   ]
  },
  {
   "cell_type": "markdown",
   "metadata": {},
   "source": [
    "## Recommendation"
   ]
  },
  {
   "cell_type": "markdown",
   "metadata": {},
   "source": [
    "TODO"
   ]
  },
  {
   "cell_type": "markdown",
   "metadata": {},
   "source": [
    "## Limitations"
   ]
  },
  {
   "cell_type": "markdown",
   "metadata": {},
   "source": [
    "TODO"
   ]
  },
  {
   "cell_type": "markdown",
   "metadata": {},
   "source": [
    "# Theory"
   ]
  },
  {
   "cell_type": "markdown",
   "metadata": {},
   "source": [
    "Solution: \n",
    "$$\\min\\ \\text{sort}(A, n)$$\n",
    "\n",
    "Where:\n",
    "$$\n",
    "\\begin{align}\n",
    "\\text{sort}(A, n) &:= f: A, n \\rightarrow y, \\text{where } |y| \\le n, n \\in \\mathbb{N} \\\\\n",
    "y &:= \\text{list result of a first-element-based top-down sort of list-casted set $A$} \\\\\n",
    "\\end{align}\n",
    "$$\n",
    "\n",
    "Given:\n",
    "$$\n",
    "\\begin{align}\n",
    "A &:= \\left(\\sum_{i \\in I}u_ix_i, |X_i|\\right) \\text{ s.t. } \\sum_{i \\in I}w_ix_i \\le W \\wedge \\hat{c} = \\text{True, } \\forall \\hat{c} \\in C \\\\\n",
    "I &:= I_\\text{new} \\cap I_\\text{existing} \\\\\n",
    "I_\\text{new} &:= \\text{discrete set of potential tech solutions (e.g. tools, processes)} \\\\\n",
    "I_\\text{existing} &:= \\text{discrete set of existing tech solutions (e.g. tools, processes)} \\\\\n",
    "x_i &:=\n",
    "    \\begin{cases}\n",
    "    x_\\text{new},& \\text{if } i \\in I_\\text{new}\\\\\n",
    "    x_\\text{existing},& \\text{if } i \\in I_\\text{existing}\n",
    "    \\end{cases} \\\\\n",
    "x_\\text{new} &:=\n",
    "    \\begin{cases}\n",
    "    1,& \\text{if $i$ is adopted, where } i \\in I_\\text{new} \\\\\n",
    "    0,& \\text{otherwise}\n",
    "    \\end{cases} \\\\\n",
    "x_\\text{existing} &:=\n",
    "    \\begin{cases}\n",
    "    2,& \\text{if $i$ is adopted, where } i \\in I_\\text{existing}\\\\\n",
    "    0,& \\text{otherwise}\n",
    "    \\end{cases} \\\\\n",
    "X_i &:= \\{x_i | x_i \\neq 0\\}, i \\in I \\\\\n",
    "u_i &:= \\text{utility of } i \\in I,\\ u_i \\in \\mathbb{R}^+ \\\\\n",
    "w_u &:= \\text{cost of } i \\in I, w_i \\in \\mathbb{R}^+ \\\\\n",
    "W &:= \\text{budget (cost upper-bound)} \\\\\n",
    "C &:= \\text{discrete set of constraints}\n",
    "\\end{align}\n",
    "$$"
   ]
  },
  {
   "cell_type": "markdown",
   "metadata": {},
   "source": [
    "# Implementation"
   ]
  },
  {
   "cell_type": "code",
   "execution_count": null,
   "metadata": {},
   "outputs": [],
   "source": [
    "# TODO"
   ]
  }
 ],
 "metadata": {
  "kernelspec": {
   "display_name": "Python 3",
   "language": "python",
   "name": "python3"
  },
  "language_info": {
   "codemirror_mode": {
    "name": "ipython",
    "version": 3
   },
   "file_extension": ".py",
   "mimetype": "text/x-python",
   "name": "python",
   "nbconvert_exporter": "python",
   "pygments_lexer": "ipython3",
   "version": "3.8.5"
  }
 },
 "nbformat": 4,
 "nbformat_minor": 4
}
